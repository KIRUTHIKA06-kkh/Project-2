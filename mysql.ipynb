{
 "cells": [
  {
   "cell_type": "markdown",
   "metadata": {},
   "source": [
    "Creating Database"
   ]
  },
  {
   "cell_type": "code",
   "execution_count": 3,
   "metadata": {},
   "outputs": [
    {
     "name": "stdout",
     "output_type": "stream",
     "text": [
      "Database created successfully\n"
     ]
    }
   ],
   "source": [
    "import mysql.connector\n",
    "mydb = mysql.connector.connect(\n",
    "  host=\"localhost\",\n",
    "  user=\"root\",\n",
    "  password=\"181506\"\n",
    ")\n",
    "\n",
    "mycursor = mydb.cursor()\n",
    "\n",
    "mycursor.execute(\"CREATE DATABASE dataspark\")\n",
    "\n",
    "print(\"Database created successfully\")\n"
   ]
  },
  {
   "cell_type": "markdown",
   "metadata": {},
   "source": [
    "Pushing to Database"
   ]
  },
  {
   "cell_type": "code",
   "execution_count": 4,
   "metadata": {},
   "outputs": [
    {
     "name": "stdout",
     "output_type": "stream",
     "text": [
      "Data successfully pushed to mySQL table!\n"
     ]
    },
    {
     "name": "stderr",
     "output_type": "stream",
     "text": [
      "C:\\Users\\Kiruthika Karthikeya\\AppData\\Local\\Temp\\ipykernel_1572\\852978400.py:22: DtypeWarning: Columns (21) have mixed types. Specify dtype option on import or set low_memory=False.\n",
      "  df=pd.read_csv('sales_analysis.csv')\n"
     ]
    },
    {
     "name": "stdout",
     "output_type": "stream",
     "text": [
      "Data successfully pushed to mySQL table!\n",
      "Data successfully pushed to mySQL table!\n",
      "Data successfully pushed to mySQL table!\n",
      "Data successfully pushed to mySQL table!\n"
     ]
    }
   ],
   "source": [
    "import pandas as pd \n",
    "import pymysql\n",
    "from sqlalchemy import create_engine\n",
    "\n",
    "host=\"localhost\"\n",
    "port=\"3306\"\n",
    "database=\"dataspark\"\n",
    "user=\"root\"\n",
    "password=\"181506\"\n",
    "\n",
    "\n",
    "engine_string = f\"mysql+pymysql://{user}:{password}@{host}:{port}/{database}\"\n",
    "engine = create_engine(engine_string)\n",
    "\n",
    "\n",
    "df=pd.read_csv('customer_analysis.csv')\n",
    "table_name=\"customer_analysis\"\n",
    "df.to_sql(table_name, engine,if_exists='replace', index=False)  \n",
    "print(\"Data successfully pushed to mySQL table!\")\n",
    "\n",
    "\n",
    "df=pd.read_csv('sales_analysis.csv')\n",
    "table_name=\"sales_analysis\"\n",
    "df.to_sql(table_name, engine,if_exists='replace', index=False)  \n",
    "print(\"Data successfully pushed to mySQL table!\")\n",
    "\n",
    "\n",
    "df=pd.read_csv('product_analysis.csv')\n",
    "table_name=\"product_analysis\"\n",
    "df.to_sql(table_name, engine,if_exists='replace', index=False)  \n",
    "print(\"Data successfully pushed to mySQL table!\")\n",
    "\n",
    "\n",
    "df=pd.read_csv('store_analysis.csv')\n",
    "table_name=\"store_analysis\"\n",
    "df.to_sql(table_name, engine,if_exists='replace', index=False)  \n",
    "print(\"Data successfully pushed to mySQL table!\")\n",
    "\n",
    "\n",
    "df=pd.read_csv('exchangerates_analysis.csv')\n",
    "table_name=\"exchangerate_analysis\"\n",
    "df.to_sql(table_name, engine,if_exists='replace', index=False)  \n",
    "print(\"Data successfully pushed to mySQL table!\")\n"
   ]
  }
 ],
 "metadata": {
  "kernelspec": {
   "display_name": ".venv",
   "language": "python",
   "name": "python3"
  },
  "language_info": {
   "codemirror_mode": {
    "name": "ipython",
    "version": 3
   },
   "file_extension": ".py",
   "mimetype": "text/x-python",
   "name": "python",
   "nbconvert_exporter": "python",
   "pygments_lexer": "ipython3",
   "version": "3.12.7"
  }
 },
 "nbformat": 4,
 "nbformat_minor": 2
}
